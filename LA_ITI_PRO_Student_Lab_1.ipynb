{
 "cells": [
  {
   "cell_type": "markdown",
   "metadata": {},
   "source": [
    "# LAB 1: Matrix and Vector Computations in python\n",
    "\n",
    "In this lab you will use python to study the following topics:\n",
    "\n",
    "- How to create matrices and vectors in python.\n",
    "\n",
    "- How to manipulate matrices in python and create matrices of special types.\n",
    "\n",
    "- How to add matrices and multiply a vector by a matrix by python.\n",
    "\n",
    "- Apply linear transformation.\n"
   ]
  },
  {
   "cell_type": "markdown",
   "metadata": {},
   "source": [
    "# First: you should run this cell"
   ]
  },
  {
   "cell_type": "code",
   "execution_count": 1,
   "metadata": {},
   "outputs": [],
   "source": [
    "# Make all numpy available via shorter 'np' prefix\n",
    "import numpy as np\n",
    "\n",
    "import matplotlib.pyplot as plt"
   ]
  },
  {
   "cell_type": "markdown",
   "metadata": {},
   "source": [
    "# Question 1 :Declaring scalars, vectors, and matrices\n",
    "\n",
    "a) Use [numpy.array](https://numpy.org/doc/stable/reference/generated/numpy.array.html) to declare the following:\n",
    "\n",
    "1. A scalar $s = 5$\n",
    "2. A vector $v = \\begin{bmatrix} 5  \\\\ -2 \\\\ 4  \\\\ \\end{bmatrix}$\n",
    "3. A matrix $A = \\begin{bmatrix} 1 & 2 & 3  \\\\ 4 & 5 & 6 \\\\ 7 & 8 & 9  \\\\ \\end{bmatrix}$\n",
    "4. A matrix $B = \\begin{bmatrix} 1 & 2 & 3  \\\\ 4 & 5 & 6 \\\\ \\end{bmatrix}$\n",
    "5. A matrix $C = \\begin{bmatrix} 1 & 2   \\\\ 3 & 4  \\\\ 5 & 6   \\\\ \\end{bmatrix}$"
   ]
  },
  {
   "cell_type": "code",
   "execution_count": 8,
   "metadata": {},
   "outputs": [],
   "source": [
    "#type your code here:\n",
    "s=np.array(5)\n",
    "v=np.array([[5,-2,4]])\n",
    "a=np.array([\n",
    "    [1,2,3],\n",
    "    [4,5,6],\n",
    "    [7,8,9]   \n",
    "])\n",
    "\n",
    "b=np.array([\n",
    "    [1,2,3],\n",
    "    [4,5,6] \n",
    "])\n",
    "\n",
    "c=np.array([\n",
    "    [1,2],\n",
    "    [3,4],\n",
    "    [5,6]   \n",
    "])"
   ]
  },
  {
   "cell_type": "markdown",
   "metadata": {},
   "source": [
    "b) Print the data type of $s, v,$ and $A$ using `type` command in python."
   ]
  },
  {
   "cell_type": "code",
   "execution_count": 9,
   "metadata": {},
   "outputs": [
    {
     "name": "stdout",
     "output_type": "stream",
     "text": [
      "<class 'numpy.ndarray'>\n",
      "<class 'numpy.ndarray'>\n",
      "<class 'numpy.ndarray'>\n"
     ]
    }
   ],
   "source": [
    "#type your code here:\n",
    "print(type(s))\n",
    "print(type(v))\n",
    "print(type(a))\n"
   ]
  },
  {
   "cell_type": "markdown",
   "metadata": {},
   "source": [
    "c) Using [numpy.shape](https://numpy.org/devdocs/reference/generated/numpy.shape.html) or `A.shape` print the shape of $s, v, A, B,$ and $C$."
   ]
  },
  {
   "cell_type": "code",
   "execution_count": 10,
   "metadata": {},
   "outputs": [
    {
     "name": "stdout",
     "output_type": "stream",
     "text": [
      "()\n",
      "(1, 3)\n",
      "(3, 3)\n",
      "(3, 2)\n"
     ]
    }
   ],
   "source": [
    "#type your code here:\n",
    "print(s.shape)\n",
    "print(v.shape)\n",
    "print(a.shape)\n",
    "print(c.shape)"
   ]
  },
  {
   "cell_type": "markdown",
   "metadata": {},
   "source": [
    "d) To access a given entry in the `numpy array` put the `row number - 1` and `column number - 1` in square brackets following the array name. Ex `a32 = A[2, 1]`.\n",
    "- Print the value of the third row and the second column of the matrix $A$.\n",
    "- Change it to $10$.\n",
    "- Print the matrix A to check the entry is changed."
   ]
  },
  {
   "cell_type": "code",
   "execution_count": 11,
   "metadata": {},
   "outputs": [
    {
     "name": "stdout",
     "output_type": "stream",
     "text": [
      "8\n"
     ]
    },
    {
     "data": {
      "text/plain": [
       "array([[ 1,  2,  3],\n",
       "       [ 4,  5,  6],\n",
       "       [ 7, 10,  9]])"
      ]
     },
     "execution_count": 11,
     "metadata": {},
     "output_type": "execute_result"
    }
   ],
   "source": [
    "#type your code here:\n",
    "print(a[2,1])\n",
    "a[2,1]=10\n",
    "a"
   ]
  },
  {
   "cell_type": "markdown",
   "metadata": {},
   "source": [
    "e)To access a whole row or column of a matrix, use the colon operator. For example, `A[:, [1]]` is the second column of A, while `B[[1], :]` is the second row of B."
   ]
  },
  {
   "cell_type": "code",
   "execution_count": 13,
   "metadata": {},
   "outputs": [
    {
     "name": "stdout",
     "output_type": "stream",
     "text": [
      "[[ 2]\n",
      " [ 5]\n",
      " [10]]\n",
      "/////////////\n",
      "[[4 5 6]]\n"
     ]
    }
   ],
   "source": [
    "#type your code here:\n",
    "print(a[:, [1]])\n",
    "print('*********')\n",
    "print(b[[1], :])"
   ]
  },
  {
   "cell_type": "markdown",
   "metadata": {},
   "source": [
    "f) Type each of the following commands that generate special matrices:\n",
    "- `np.eye(4), np.zeros(3), np.zeros((3, 1)), np.zeros((3, 5)), np.ones((2, 3)), and np.diag([4, 5, 6, 7])`"
   ]
  },
  {
   "cell_type": "code",
   "execution_count": 14,
   "metadata": {},
   "outputs": [
    {
     "name": "stdout",
     "output_type": "stream",
     "text": [
      "[[1. 0. 0. 0.]\n",
      " [0. 1. 0. 0.]\n",
      " [0. 0. 1. 0.]\n",
      " [0. 0. 0. 1.]]\n",
      "*********\n",
      "[0. 0. 0.]\n",
      "*********\n",
      "[[0.]\n",
      " [0.]\n",
      " [0.]]\n",
      "*********\n",
      "[[0. 0. 0. 0. 0.]\n",
      " [0. 0. 0. 0. 0.]\n",
      " [0. 0. 0. 0. 0.]]\n",
      "*********\n",
      "[[1. 1. 1.]\n",
      " [1. 1. 1.]]\n",
      "*********\n",
      "[[4 0 0 0]\n",
      " [0 5 0 0]\n",
      " [0 0 6 0]\n",
      " [0 0 0 7]]\n"
     ]
    }
   ],
   "source": [
    "#type your code here:\n",
    "print(np.eye(4))\n",
    "print('*********')\n",
    "print(np.zeros(3))\n",
    "print('*********')\n",
    "print(np.zeros((3, 1)))\n",
    "print('*********')\n",
    "print(np.zeros((3, 5)))\n",
    "print('*********')\n",
    "print(np.ones((2, 3)))\n",
    "print('*********')\n",
    "print(np.diag([4, 5, 6, 7]))"
   ]
  },
  {
   "cell_type": "markdown",
   "metadata": {},
   "source": [
    "# Question 2. Vectors Addition, Scaling, and dot product"
   ]
  },
  {
   "cell_type": "markdown",
   "metadata": {},
   "source": [
    "a) Declare vectors $v1 = \\begin{bmatrix} 1  \\\\ 2 \\\\ 7  \\\\ 4 \\\\ \\end{bmatrix}$ and $v2 = \\begin{bmatrix} 4  \\\\ 3 \\\\ 6  \\\\ 8 \\\\ \\end{bmatrix}$\n",
    "\n",
    "- Addition: $v1 + v2$\n",
    "- Subtraction: $v1 - v2$\n",
    "- Scaling by a number: $3 * v1$\n",
    "- Scaling by a number: $v1 / 2$"
   ]
  },
  {
   "cell_type": "code",
   "execution_count": 26,
   "metadata": {},
   "outputs": [
    {
     "name": "stdout",
     "output_type": "stream",
     "text": [
      "[[1]\n",
      " [2]\n",
      " [7]\n",
      " [4]]\n",
      "*********\n",
      "[[4]\n",
      " [3]\n",
      " [6]\n",
      " [8]]\n",
      "*********\n",
      "[[ 5]\n",
      " [ 5]\n",
      " [13]\n",
      " [12]]\n",
      "*********\n",
      "[[-3]\n",
      " [-1]\n",
      " [ 1]\n",
      " [-4]]\n",
      "*********\n",
      "[[ 3]\n",
      " [ 6]\n",
      " [21]\n",
      " [12]]\n",
      "*********\n",
      "[[0.5]\n",
      " [1. ]\n",
      " [3.5]\n",
      " [2. ]]\n",
      "*********\n"
     ]
    }
   ],
   "source": [
    "#type your code here:\n",
    "v1=np.array([[1],[2],[7],[4]])\n",
    "v2=np.array([[4],[3],[6],[8]])\n",
    "\n",
    "print(v1)\n",
    "print('*********')\n",
    "print(v2)\n",
    "print('*********')\n",
    "print(v1+v2)\n",
    "print('*********')\n",
    "print(v1-v2)\n",
    "print('*********')\n",
    "print(3*v1)\n",
    "print('*********')\n",
    "print(v1/2)\n",
    "print('*********')\n"
   ]
  },
  {
   "cell_type": "markdown",
   "metadata": {},
   "source": [
    "b) Find the dot product between the two vectors $v1$ and $v2$ using the following:\n",
    "\n",
    "- [numpy.dot](https://numpy.org/doc/stable/reference/generated/numpy.dot.html)\n",
    "- [numpy.matmul](https://numpy.org/doc/stable/reference/generated/numpy.matmul.html#numpy.matmul)\n",
    "- `v1.T @ v2`"
   ]
  },
  {
   "cell_type": "code",
   "execution_count": 29,
   "metadata": {},
   "outputs": [
    {
     "name": "stdout",
     "output_type": "stream",
     "text": [
      "[[84]]\n",
      "********\n",
      "[[84]]\n",
      "********\n",
      "[[84]]\n",
      "********\n"
     ]
    }
   ],
   "source": [
    "#type your code here:\n",
    "print(np.dot(v1.T,v2))\n",
    "print('********')\n",
    "print(np.matmul(v1.T,v2))\n",
    "print('********')\n",
    "print(v1.T @ v2)\n",
    "print('********')"
   ]
  },
  {
   "cell_type": "markdown",
   "metadata": {},
   "source": [
    "c) Find the length of the vectors $v1$ and $v2$.\n",
    "- Using [numpy.linalg.norm](https://numpy.org/doc/stable/reference/generated/numpy.linalg.norm.html)\n",
    "- Using the dot product and [numpy.sqrt](https://numpy.org/doc/stable/reference/generated/numpy.sqrt.html)\n"
   ]
  },
  {
   "cell_type": "code",
   "execution_count": 31,
   "metadata": {},
   "outputs": [
    {
     "name": "stdout",
     "output_type": "stream",
     "text": [
      "8.366600265340756\n",
      "*****************\n",
      "11.180339887498949\n",
      "*****************\n",
      "[[8.36660027]]\n",
      "*****************\n",
      "[[11.18033989]]\n"
     ]
    }
   ],
   "source": [
    "#type your code here:\n",
    "print(np.linalg.norm(v1))\n",
    "print('*****************')\n",
    "print(np.linalg.norm(v2))\n",
    "print('*****************')\n",
    "print(np.sqrt(v1.T @ v1))\n",
    "print('*****************')\n",
    "print(np.sqrt(v2.T @ v2))"
   ]
  },
  {
   "cell_type": "markdown",
   "metadata": {},
   "source": [
    "d) Show that the vectors $u = \\begin{bmatrix} 3  \\\\ 2 \\\\ -1  \\\\ 4 \\\\ \\end{bmatrix}$ and $v = \\begin{bmatrix} 1  \\\\ -1 \\\\ 1  \\\\ 0 \\\\ \\end{bmatrix}$ are orthogonal.\n"
   ]
  },
  {
   "cell_type": "code",
   "execution_count": 33,
   "metadata": {},
   "outputs": [
    {
     "name": "stdout",
     "output_type": "stream",
     "text": [
      "[[0]]\n"
     ]
    }
   ],
   "source": [
    "#type your code here:\n",
    "u=np.array([[3],[2],[-1],[4]])\n",
    "v=np.array([[1],[-1],[1],[0]])\n",
    "print(u.T @ v)"
   ]
  },
  {
   "cell_type": "markdown",
   "metadata": {},
   "source": [
    "# Question 3. Matrix Addition and Matrix-Vector Multiplication\n",
    "\n",
    "Declare vectors $u$ and $v$ and matrices $A$ and $B$ as following:\n",
    "- $u = \\begin{bmatrix} 2  \\\\ 7 \\\\ 2 \\\\ \\end{bmatrix}$, $v = \\begin{bmatrix} 8  \\\\ 2 \\\\ 4 \\\\ \\end{bmatrix}$\n",
    "- $A = \\begin{bmatrix} 7 & 3 & 5  \\\\ 4 & 6 & 2 \\\\ \\end{bmatrix}$, $B = \\begin{bmatrix} 0 & 6 & 4  \\\\ 2 & 3 & 0 \\\\ \\end{bmatrix}$\n",
    "\n",
    "a) Calculate the following using python.\n",
    "\n",
    "- $A+B$\n",
    "- $B+A$\n",
    "- $3A$\n",
    "- $6B$\n",
    "- $2(3B)$\n",
    "- $6A+15B$\n",
    "- $3(2A+5B)$"
   ]
  },
  {
   "cell_type": "code",
   "execution_count": 36,
   "metadata": {},
   "outputs": [
    {
     "name": "stdout",
     "output_type": "stream",
     "text": [
      "[[2]\n",
      " [7]\n",
      " [2]]\n",
      "**************\n",
      "[[8]\n",
      " [2]\n",
      " [4]]\n",
      "**************\n",
      "[[7 3 5]\n",
      " [4 6 2]]\n",
      "**************\n",
      "[[0 6 4]\n",
      " [2 3 0]]\n",
      "**************\n",
      "[[7 9 9]\n",
      " [6 9 2]]\n",
      "**************\n",
      "[[7 9 9]\n",
      " [6 9 2]]\n",
      "**************\n",
      "[[21  9 15]\n",
      " [12 18  6]]\n",
      "**************\n",
      "[[ 0 36 24]\n",
      " [12 18  0]]\n",
      "**************\n",
      "[[ 0 36 24]\n",
      " [12 18  0]]\n",
      "**************\n",
      "[[ 42 108  90]\n",
      " [ 54  81  12]]\n",
      "**************\n",
      "[[ 42 108  90]\n",
      " [ 54  81  12]]\n",
      "**************\n"
     ]
    }
   ],
   "source": [
    "#type your code here:\n",
    "u=np.array([[2],[7],[2]])\n",
    "v=np.array([[8],[2],[4]])\n",
    "a=np.array([\n",
    "    [7,3,5],\n",
    "    [4,6,2]\n",
    "])\n",
    "b=np.array([\n",
    "    [0,6,4],\n",
    "    [2,3,0]\n",
    "])\n",
    "\n",
    "print(u)\n",
    "print('**************')\n",
    "print(v)\n",
    "print('**************')\n",
    "print(a)\n",
    "print('**************')\n",
    "print(b)\n",
    "print('**************')\n",
    "print(a+b)\n",
    "print('**************')\n",
    "print(b+a)\n",
    "print('**************')\n",
    "print(3*a)\n",
    "print('**************')\n",
    "print(6*b)\n",
    "print('**************')\n",
    "print(2*(3*b))\n",
    "print('**************')\n",
    "print((6*a)+(15*b))\n",
    "print('**************')\n",
    "\n",
    "\n",
    "print(3*((2*a)+(5*b)))\n",
    "print('**************')"
   ]
  },
  {
   "cell_type": "markdown",
   "metadata": {},
   "source": [
    "b) To obtain the matrix-vector product $Au$ using python, type `A @ u`. Calculate the following:\n",
    "\n",
    "- $Au+Av$\n",
    "- $A(u+v)$\n",
    "- $(A+B)u$\n",
    "- $Au+Bu$\n",
    "- $A(3u)$\n",
    "- $3A(u)$"
   ]
  },
  {
   "cell_type": "code",
   "execution_count": 42,
   "metadata": {},
   "outputs": [
    {
     "name": "stdout",
     "output_type": "stream",
     "text": [
      "[[127]\n",
      " [106]]\n",
      "**************\n",
      "[[127]\n",
      " [106]]\n",
      "**************\n",
      "[[95]\n",
      " [79]]\n",
      "**************\n",
      "[[95]\n",
      " [79]]\n",
      "**************\n",
      "[[135]\n",
      " [162]]\n",
      "**************\n",
      "[[135]\n",
      " [162]]\n",
      "**************\n"
     ]
    }
   ],
   "source": [
    "#type your code here:\n",
    "print((a@u)+(a@v))\n",
    "print('**************')\n",
    "print((a@(u+v)))\n",
    "print('**************')\n",
    "print((a+b)@u)\n",
    "print('**************')\n",
    "print((a@u)+(b@u))\n",
    "print('**************')\n",
    "print(a@(3*u))\n",
    "print('**************')\n",
    "print(3*(a@u))\n",
    "print('**************')"
   ]
  },
  {
   "cell_type": "markdown",
   "metadata": {},
   "source": [
    "# Question 4: Linear Transformation\n",
    "\n",
    "Declare a vector $v = \\begin{bmatrix} 5  \\\\ -2 \\\\ \\end{bmatrix}$\n",
    "\n",
    "a) Rotations: Generate a matrix Q and Let Q act on the vector\n",
    "\n",
    "$Q = \\begin{bmatrix} cos(\\theta) & -sin(\\theta)   \\\\ sin(\\theta) & cos(\\theta)    \\\\ \\end{bmatrix}$ where $\\theta = pi / 6$\n",
    "\n",
    "- Repeat with $\\theta = -pi/3$\n",
    "- Use [matplotlib.pyplot.quiver](https://matplotlib.org/stable/api/_as_gen/matplotlib.pyplot.quiver.html) to plot the vectors. Ex: `plt.quiver(v1[0], v1[1], angles='xy', scale_units='xy', scale=1, color='red', alpha=1)`\n",
    "- Describe in words how the vector has changed.\n"
   ]
  },
  {
   "cell_type": "code",
   "execution_count": 98,
   "metadata": {},
   "outputs": [
    {
     "name": "stdout",
     "output_type": "stream",
     "text": [
      "[[5.33012702]\n",
      " [0.76794919]]\n",
      "******************************************\n",
      "[[ 0.76794919]\n",
      " [-5.33012702]]\n"
     ]
    }
   ],
   "source": [
    "#type your code here:\n",
    "v=np.array([[5],[-2]])\n",
    "seta=np.pi/6\n",
    "q=np.array([\n",
    "    [np.cos(seta),-np.sin(seta)],\n",
    "    [np.sin(seta),np.cos(seta)]\n",
    "])\n",
    "transq=q@v\n",
    "print(transq)\n",
    "print('******************************************')\n",
    "seta=-np.pi/3\n",
    "q=np.array([\n",
    "    [np.cos(seta),-np.sin(seta)],\n",
    "    [np.sin(seta),np.cos(seta)]\n",
    "])\n",
    "transq=q@v\n",
    "print(transq)"
   ]
  },
  {
   "cell_type": "code",
   "execution_count": 100,
   "metadata": {},
   "outputs": [
    {
     "data": {
      "text/plain": [
       "<matplotlib.quiver.Quiver at 0x9d37310>"
      ]
     },
     "execution_count": 100,
     "metadata": {},
     "output_type": "execute_result"
    },
    {
     "data": {
      "image/png": "[encoded data removed]",
      "text/plain": [
       "<Figure size 432x288 with 1 Axes>"
      ]
     },
     "metadata": {
      "needs_background": "light"
     },
     "output_type": "display_data"
    }
   ],
   "source": [
    "import matplotlib as plt \n",
    "plt.pyplot.quiver(v[0], v[1], scale=10, color='red', alpha=1)\n",
    "plt.pyplot.quiver(transq[0], transq[1], scale=10, color='green', alpha=1)"
   ]
  },
  {
   "cell_type": "markdown",
   "metadata": {},
   "source": [
    "b) Dilations: Generate a matrix D by\n",
    "\n",
    "$D = \\begin{bmatrix} r & 0   \\\\ 0 & 1/r    \\\\ \\end{bmatrix}$ where $r = 0.9$\n",
    "\n",
    "- Repeat with $r = 0.8$\n",
    "- Use [matplotlib.pyplot.quiver](https://matplotlib.org/stable/api/_as_gen/matplotlib.pyplot.quiver.html) to plot the vectors\n",
    "- Describe in words how the vector has changed."
   ]
  },
  {
   "cell_type": "code",
   "execution_count": 104,
   "metadata": {},
   "outputs": [
    {
     "name": "stdout",
     "output_type": "stream",
     "text": [
      "[[ 4.5       ]\n",
      " [-2.22222222]]\n",
      "******************************************\n",
      "[[ 4. ]\n",
      " [-2.5]]\n",
      "******************************************\n"
     ]
    }
   ],
   "source": [
    "#type your code here:\n",
    "r=0.9\n",
    "d=np.array([[r,0],\n",
    "          [0,1/r]\n",
    "          ])\n",
    "transd=d@v\n",
    "print(transd)\n",
    "print('******************************************')\n",
    "r=0.8\n",
    "d=np.array([[r,0],\n",
    "          [0,1/r]\n",
    "          ])\n",
    "transd=d@v\n",
    "print(transd)\n",
    "print('******************************************')"
   ]
  },
  {
   "cell_type": "code",
   "execution_count": 108,
   "metadata": {},
   "outputs": [
    {
     "data": {
      "text/plain": [
       "<matplotlib.quiver.Quiver at 0x9de4880>"
      ]
     },
     "execution_count": 108,
     "metadata": {},
     "output_type": "execute_result"
    },
    {
     "data": {
      "image/png": "[encoded data removed]",
      "text/plain": [
       "<Figure size 432x288 with 1 Axes>"
      ]
     },
     "metadata": {
      "needs_background": "light"
     },
     "output_type": "display_data"
    }
   ],
   "source": [
    "plt.pyplot.quiver(v[0], v[1], scale=10, color='red', alpha=1)\n",
    "plt.pyplot.quiver(transd[0], transd[1], scale=10, color='green', alpha=1)"
   ]
  },
  {
   "cell_type": "markdown",
   "metadata": {},
   "source": [
    "c) Shearing Transformations: Generate a matrix T by\n",
    "$T = \\begin{bmatrix} 1 & t   \\\\ 0 & 1    \\\\ \\end{bmatrix}$ where $t = 0.5$\n",
    "\n",
    "- Repeat with $t = -0.5$\n",
    "- Use [matplotlib.pyplot.quiver](https://matplotlib.org/stable/api/_as_gen/matplotlib.pyplot.quiver.html) to plot the vectors\n",
    "- Describe in words how the vector has changed."
   ]
  },
  {
   "cell_type": "code",
   "execution_count": 107,
   "metadata": {},
   "outputs": [
    {
     "name": "stdout",
     "output_type": "stream",
     "text": [
      "[[ 4.]\n",
      " [-2.]]\n",
      "******************************************\n",
      "[[ 4.]\n",
      " [-2.]]\n",
      "******************************************\n"
     ]
    }
   ],
   "source": [
    "#type your code here:\n",
    "t=0.5\n",
    "T=np.array([[1,t],\n",
    "          [0,1]\n",
    "          ])\n",
    "transt=T@v\n",
    "print(transt)\n",
    "print('******************************************')\n",
    "t=-0.5\n",
    "d=np.array([[1,t],\n",
    "          [0,1]\n",
    "          ])\n",
    "transt=T@v\n",
    "print(transt)\n",
    "print('******************************************')"
   ]
  },
  {
   "cell_type": "code",
   "execution_count": 109,
   "metadata": {},
   "outputs": [
    {
     "data": {
      "text/plain": [
       "<matplotlib.quiver.Quiver at 0x9e36a60>"
      ]
     },
     "execution_count": 109,
     "metadata": {},
     "output_type": "execute_result"
    },
    {
     "data": {
      "image/png": "[encoded data removed]",
      "text/plain": [
       "<Figure size 432x288 with 1 Axes>"
      ]
     },
     "metadata": {
      "needs_background": "light"
     },
     "output_type": "display_data"
    }
   ],
   "source": [
    "plt.pyplot.quiver(v[0], v[1], scale=10, color='red', alpha=1)\n",
    "plt.pyplot.quiver(transt[0], transt[1], scale=10, color='green', alpha=1)"
   ]
  },
  {
   "cell_type": "code",
   "execution_count": 1,
   "metadata": {},
   "outputs": [
    {
     "data": {
      "text/plain": [
       "(3,)"
      ]
     },
     "execution_count": 1,
     "metadata": {},
     "output_type": "execute_result"
    }
   ],
   "source": [
    "import numpy as np \n",
    "t=np.array([1,2,3])\n",
    "t.shape"
   ]
  },
  {
   "cell_type": "code",
   "execution_count": 2,
   "metadata": {},
   "outputs": [
    {
     "data": {
      "text/plain": [
       "(3, 1)"
      ]
     },
     "execution_count": 2,
     "metadata": {},
     "output_type": "execute_result"
    }
   ],
   "source": [
    "t=np.array([[1],[2],[3]])\n",
    "t.shape"
   ]
  },
  {
   "cell_type": "code",
   "execution_count": null,
   "metadata": {},
   "outputs": [],
   "source": []
  }
 ],
 "metadata": {
  "kernelspec": {
   "display_name": "Python 3",
   "language": "python",
   "name": "python3"
  },
  "language_info": {
   "codemirror_mode": {
    "name": "ipython",
    "version": 3
   },
   "file_extension": ".py",
   "mimetype": "text/x-python",
   "name": "python",
   "nbconvert_exporter": "python",
   "pygments_lexer": "ipython3",
   "version": "3.8.5"
  }
 },
 "nbformat": 4,
 "nbformat_minor": 4
}
