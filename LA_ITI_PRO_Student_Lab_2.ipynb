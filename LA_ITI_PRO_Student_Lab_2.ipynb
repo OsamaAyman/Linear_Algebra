{
 "cells": [
  {
   "cell_type": "markdown",
   "metadata": {},
   "source": [
    "# LAB 2: Solving a System of Linear Equations, Eigenvalues, and Eigenvectors\n",
    "\n",
    "In this lab you will use python to study the following topics:\n",
    "\n",
    "- How to calculate the inverse of a matrix using numpy.\n",
    "\n",
    "- How to calculate the determinant of a matrix using numpy.\n",
    "\n",
    "- How to solve a system of linear equations.\n",
    "\n",
    "- Determination of eigenvalues and eigenvectors using numpy."
   ]
  },
  {
   "cell_type": "markdown",
   "metadata": {},
   "source": [
    "# First: you should run this cell"
   ]
  },
  {
   "cell_type": "code",
   "execution_count": 1,
   "metadata": {},
   "outputs": [],
   "source": [
    "# Make all numpy available via shorter 'np' prefix\n",
    "import numpy as np\n",
    "\n",
    "#import plotter\n",
    "import matplotlib.pyplot as plt"
   ]
  },
  {
   "cell_type": "markdown",
   "metadata": {},
   "source": [
    "# Question 1 : Determinant and Inverse\n",
    "\n",
    "Use [numpy.linalg.inv](https://numpy.org/doc/stable/reference/generated/numpy.linalg.inv.html) and [numpy.linalg.det](https://numpy.org/doc/stable/reference/generated/numpy.linalg.det.html) to calculate the determinant and the inverse for the following matrices:\n",
    "\n",
    "$A = \\begin{bmatrix} 1 & 2   \\\\ 3 & 4   \\\\ \\end{bmatrix}$,\n",
    "$B = \\begin{bmatrix} 1 & 2   \\\\ 3 & 6   \\\\ \\end{bmatrix}$, \n",
    "$C = \\begin{bmatrix} 1 & 2 & 4  \\\\ 2 & -1 & 3 \\\\ 4 & 0 & 1  \\\\ \\end{bmatrix}$,\n",
    "and $D = \\begin{bmatrix} 1 & 2 & 5  \\\\ 2 & 3 & 7 \\\\ 1 & 1 & 2  \\\\ \\end{bmatrix}$"
   ]
  },
  {
   "cell_type": "code",
   "execution_count": 2,
   "metadata": {},
   "outputs": [],
   "source": [
    "a=np.array([[1,2],[3,4]])\n",
    "b=np.array([[1,2],[3,6]])\n",
    "c=np.array([[1,2,4],[2,-1,3],[4,0,1]])\n",
    "d=np.array([[1,2,5],[2,3,7],[1,1,2]])"
   ]
  },
  {
   "cell_type": "code",
   "execution_count": 7,
   "metadata": {},
   "outputs": [
    {
     "name": "stdout",
     "output_type": "stream",
     "text": [
      "[[-2.   1. ]\n",
      " [ 1.5 -0.5]]\n",
      "det=  -2.0000000000000004\n",
      "*************************\n",
      "det=  0.0\n",
      "*************************\n",
      "[[-0.02857143 -0.05714286  0.28571429]\n",
      " [ 0.28571429 -0.42857143  0.14285714]\n",
      " [ 0.11428571  0.22857143 -0.14285714]]\n",
      "det=  34.99999999999999\n",
      "*************************\n",
      "det=  0.0\n",
      "*************************\n"
     ]
    }
   ],
   "source": [
    "print(np.linalg.inv(a))\n",
    "print('det= ',np.linalg.det(a))\n",
    "print('*************************')\n",
    "#print(np.linalg.inv(b))\n",
    "print('det= ',np.linalg.det(b))\n",
    "print('*************************')\n",
    "print(np.linalg.inv(c))\n",
    "print('det= ',np.linalg.det(c))\n",
    "print('*************************')\n",
    "#print(np.linalg.inv(d))\n",
    "print('det= ',np.linalg.det(d))\n",
    "print('*************************')"
   ]
  },
  {
   "cell_type": "markdown",
   "metadata": {},
   "source": [
    "# Question 2 : Solving $Ax = b$\n",
    "\n",
    "Solve $Ax = b$ using the inverse of $A$ for the following systems of linear equations:\n",
    "\n",
    "1) $x + 2y = -1$; $3x + 4y = 1$\n",
    "\n",
    "2) $3x - 2y + z = 7$; $x + z = 2$; $-2y - z = 3$"
   ]
  },
  {
   "cell_type": "code",
   "execution_count": 8,
   "metadata": {},
   "outputs": [
    {
     "name": "stdout",
     "output_type": "stream",
     "text": [
      "[[1.00000000e+00 1.11022302e-16]\n",
      " [3.00000000e+00 4.44089210e-16]]\n"
     ]
    }
   ],
   "source": [
    "#type your code here:\n",
    "print(b@np.linalg.inv(a))"
   ]
  },
  {
   "cell_type": "markdown",
   "metadata": {},
   "source": [
    "# Question 3 : Eigenvalues and Eigenvectors\n",
    "\n",
    "a) Use [numpy.linalg.eig](https://numpy.org/doc/stable/reference/generated/numpy.linalg.eig.html) to obtain the eigenvalues of `A` as follows:\n",
    "    - `w, v = np.linalg.eig(A)`. Where `w` are the eigenvalues and `v`the normalized (unit “length”) eigenvectors, such that the column `v[:,i]` is the eigenvector corresponding to the eigenvalue `w[i]`.\n",
    "    \n",
    "$A = \\begin{bmatrix} 1 & 2   \\\\ 4 & 3   \\\\ \\end{bmatrix}$\n",
    "\n",
    "- Plot the vectors $v_i$ and $Av_i$, where $v_i$ are the eigenvectors of $A$"
   ]
  },
  {
   "cell_type": "code",
   "execution_count": 22,
   "metadata": {},
   "outputs": [
    {
     "name": "stdout",
     "output_type": "stream",
     "text": [
      "-1.0\n",
      "5.0\n"
     ]
    },
    {
     "data": {
      "text/plain": [
       "<matplotlib.quiver.Quiver at 0x8a4f6d0>"
      ]
     },
     "execution_count": 22,
     "metadata": {},
     "output_type": "execute_result"
    },
    {
     "data": {
      "image/png": "[encoded data removed]",
      "text/plain": [
       "<Figure size 432x288 with 1 Axes>"
      ]
     },
     "metadata": {
      "needs_background": "light"
     },
     "output_type": "display_data"
    }
   ],
   "source": [
    "#type your code here:\n",
    "a=np.array([[1,2],[4,3]])\n",
    "w,v=np.linalg.eig(a)\n",
    "print(w[0])\n",
    "print(w[1])\n",
    "v1=v[:,[0]]\n",
    "v2=v[:,[1]]\n",
    "x1=a@v1\n",
    "x2=a@v2\n",
    "plt.quiver(v1[0], v1[1], scale=10, color='green', alpha=1)\n",
    "plt.quiver(x1[0], x1[1], scale=10, color='red', alpha=1)"
   ]
  },
  {
   "cell_type": "code",
   "execution_count": 24,
   "metadata": {},
   "outputs": [
    {
     "data": {
      "text/plain": [
       "<matplotlib.quiver.Quiver at 0x8afc0a0>"
      ]
     },
     "execution_count": 24,
     "metadata": {},
     "output_type": "execute_result"
    },
    {
     "data": {
      "image/png": "[encoded data removed]",
      "text/plain": [
       "<Figure size 432x288 with 1 Axes>"
      ]
     },
     "metadata": {
      "needs_background": "light"
     },
     "output_type": "display_data"
    }
   ],
   "source": [
    "plt.quiver(v2[0], v2[1], scale=10, color='green', alpha=1)\n",
    "plt.quiver(x2[0], x2[1], scale=10, color='blue', alpha=1)"
   ]
  },
  {
   "cell_type": "markdown",
   "metadata": {},
   "source": [
    "B) Obtain the eigenvalues and the eigenvectors for $B$\n",
    "\n",
    "$B = \\begin{bmatrix} 5 & 4 & 9  \\\\ 1 & 4 & 0 \\\\ 9 & 5 & 5  \\\\ \\end{bmatrix}$"
   ]
  },
  {
   "cell_type": "code",
   "execution_count": 21,
   "metadata": {},
   "outputs": [
    {
     "name": "stdout",
     "output_type": "stream",
     "text": [
      "14.430315449348345\n",
      "-3.934929917922336\n",
      "3.5046144685739877\n"
     ]
    },
    {
     "data": {
      "text/plain": [
       "<matplotlib.quiver.Quiver at 0x8a024c0>"
      ]
     },
     "execution_count": 21,
     "metadata": {},
     "output_type": "execute_result"
    },
    {
     "data": {
      "image/png": "[encoded data removed]",
      "text/plain": [
       "<Figure size 432x288 with 1 Axes>"
      ]
     },
     "metadata": {
      "needs_background": "light"
     },
     "output_type": "display_data"
    }
   ],
   "source": [
    "#type your code here:\n",
    "b=np.array([[5,4,9],[1,4,0],[9,5,5]])\n",
    "w,v=np.linalg.eig(b)\n",
    "print(w[0])\n",
    "print(w[1])\n",
    "print(w[2])\n",
    "v1=v[:,[0]]\n",
    "v2=v[:,[1]]\n",
    "v3=v[:,[2]]\n",
    "x1=b@v1\n",
    "x2=b@v2\n",
    "x3=b@v3\n",
    "plt.quiver(v1[0], v1[0], scale=10, color='green', alpha=1)\n",
    "plt.quiver(x1[0], x1[0], scale=10, color='red', alpha=1)\n",
    "plt.quiver(x2[0], x2[1], scale=10, color='blue', alpha=1)\n",
    "plt.quiver(x3[0], x3[1], scale=10, color='black', alpha=1)"
   ]
  },
  {
   "cell_type": "code",
   "execution_count": null,
   "metadata": {},
   "outputs": [],
   "source": []
  }
 ],
 "metadata": {
  "kernelspec": {
   "display_name": "Python 3",
   "language": "python",
   "name": "python3"
  },
  "language_info": {
   "codemirror_mode": {
    "name": "ipython",
    "version": 3
   },
   "file_extension": ".py",
   "mimetype": "text/x-python",
   "name": "python",
   "nbconvert_exporter": "python",
   "pygments_lexer": "ipython3",
   "version": "3.8.5"
  }
 },
 "nbformat": 4,
 "nbformat_minor": 4
}
